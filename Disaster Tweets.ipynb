{
 "cells": [
  {
   "cell_type": "markdown",
   "metadata": {},
   "source": [
    "# SENTIMENT ANALYSIS: DISASTER TWEETS"
   ]
  },
  {
   "cell_type": "code",
   "execution_count": 16,
   "metadata": {},
   "outputs": [
    {
     "data": {
      "text/html": [
       "<div>\n",
       "<style scoped>\n",
       "    .dataframe tbody tr th:only-of-type {\n",
       "        vertical-align: middle;\n",
       "    }\n",
       "\n",
       "    .dataframe tbody tr th {\n",
       "        vertical-align: top;\n",
       "    }\n",
       "\n",
       "    .dataframe thead th {\n",
       "        text-align: right;\n",
       "    }\n",
       "</style>\n",
       "<table border=\"1\" class=\"dataframe\">\n",
       "  <thead>\n",
       "    <tr style=\"text-align: right;\">\n",
       "      <th></th>\n",
       "      <th>id</th>\n",
       "      <th>keyword</th>\n",
       "      <th>location</th>\n",
       "      <th>text</th>\n",
       "      <th>target</th>\n",
       "    </tr>\n",
       "  </thead>\n",
       "  <tbody>\n",
       "    <tr>\n",
       "      <th>0</th>\n",
       "      <td>1</td>\n",
       "      <td>NaN</td>\n",
       "      <td>NaN</td>\n",
       "      <td>Our Deeds are the Reason of this #earthquake M...</td>\n",
       "      <td>1</td>\n",
       "    </tr>\n",
       "    <tr>\n",
       "      <th>1</th>\n",
       "      <td>4</td>\n",
       "      <td>NaN</td>\n",
       "      <td>NaN</td>\n",
       "      <td>Forest fire near La Ronge Sask. Canada</td>\n",
       "      <td>1</td>\n",
       "    </tr>\n",
       "    <tr>\n",
       "      <th>2</th>\n",
       "      <td>5</td>\n",
       "      <td>NaN</td>\n",
       "      <td>NaN</td>\n",
       "      <td>All residents asked to 'shelter in place' are ...</td>\n",
       "      <td>1</td>\n",
       "    </tr>\n",
       "    <tr>\n",
       "      <th>3</th>\n",
       "      <td>6</td>\n",
       "      <td>NaN</td>\n",
       "      <td>NaN</td>\n",
       "      <td>13,000 people receive #wildfires evacuation or...</td>\n",
       "      <td>1</td>\n",
       "    </tr>\n",
       "    <tr>\n",
       "      <th>4</th>\n",
       "      <td>7</td>\n",
       "      <td>NaN</td>\n",
       "      <td>NaN</td>\n",
       "      <td>Just got sent this photo from Ruby #Alaska as ...</td>\n",
       "      <td>1</td>\n",
       "    </tr>\n",
       "  </tbody>\n",
       "</table>\n",
       "</div>"
      ],
      "text/plain": [
       "   id keyword location                                               text  \\\n",
       "0   1     NaN      NaN  Our Deeds are the Reason of this #earthquake M...   \n",
       "1   4     NaN      NaN             Forest fire near La Ronge Sask. Canada   \n",
       "2   5     NaN      NaN  All residents asked to 'shelter in place' are ...   \n",
       "3   6     NaN      NaN  13,000 people receive #wildfires evacuation or...   \n",
       "4   7     NaN      NaN  Just got sent this photo from Ruby #Alaska as ...   \n",
       "\n",
       "   target  \n",
       "0       1  \n",
       "1       1  \n",
       "2       1  \n",
       "3       1  \n",
       "4       1  "
      ]
     },
     "execution_count": 16,
     "metadata": {},
     "output_type": "execute_result"
    }
   ],
   "source": [
    "# Load data\n",
    "import pandas as pd\n",
    "\n",
    "train_frame = pd.read_csv(r'/Users/Sergii/Documents/Jupyter Notebook/train.csv')\n",
    "test_frame = pd.read_csv(r'/Users/Sergii/Documents/Jupyter Notebook/test.csv') \n",
    "train_frame.head()"
   ]
  },
  {
   "cell_type": "markdown",
   "metadata": {},
   "source": [
    "# 1. DATA EXPLORATORY"
   ]
  },
  {
   "cell_type": "code",
   "execution_count": 17,
   "metadata": {},
   "outputs": [
    {
     "name": "stdout",
     "output_type": "stream",
     "text": [
      "Size train data: (7613, 5)\n",
      "Size test data: (3263, 4)\n"
     ]
    },
    {
     "data": {
      "image/png": "[encoded data removed]",
      "text/plain": [
       "<Figure size 432x288 with 1 Axes>"
      ]
     },
     "metadata": {
      "needs_background": "light"
     },
     "output_type": "display_data"
    },
    {
     "data": {
      "image/png": "[encoded data removed]",
      "text/plain": [
       "<Figure size 432x288 with 2 Axes>"
      ]
     },
     "metadata": {
      "needs_background": "light"
     },
     "output_type": "display_data"
    }
   ],
   "source": [
    "import matplotlib.pyplot as plt\n",
    "%matplotlib inline\n",
    "\n",
    "# Train and Test set size\n",
    "print(f'Size train data: {train_frame.shape}')\n",
    "print(f'Size test data: {test_frame.shape}')\n",
    "\n",
    "# Distribution of the labels\n",
    "plt1 = plt.bar('disaster tweets (1)',len(train_frame[train_frame.target==1]), color='red')\n",
    "plt0 = plt.bar('not disaster tweets (0)', len(train_frame[train_frame.target==0]), color='green')\n",
    "plt.title('Label distribution (Train set)')\n",
    "plt.ylabel('Count')\n",
    "plt.show()\n",
    "\n",
    "# Missing Values (Keyword and Location)\n",
    "ax1 = plt.subplot(1,2,1)\n",
    "\n",
    "plt_key = plt.bar('keyword',train_frame.keyword.isnull().sum())\n",
    "plt_loc = plt.bar('location', train_frame.location.isnull().sum())\n",
    "plt.title('Missing Values (Train set)')\n",
    "plt.ylabel('Count')\n",
    "\n",
    "ax2 = plt.subplot(1,2,2)\n",
    "plt_key = plt.bar('keyword',test_frame.keyword.isnull().sum())\n",
    "plt_loc = plt.bar('location', test_frame.location.isnull().sum())\n",
    "plt.title('Missing Values (Test set)')\n",
    "plt.show()"
   ]
  },
  {
   "cell_type": "markdown",
   "metadata": {},
   "source": [
    "# 2. DATA CLEANING"
   ]
  },
  {
   "cell_type": "code",
   "execution_count": 18,
   "metadata": {},
   "outputs": [
    {
     "name": "stderr",
     "output_type": "stream",
     "text": [
      "[nltk_data] Downloading package stopwords to\n",
      "[nltk_data]     /Users/Sergii/nltk_data...\n",
      "[nltk_data]   Package stopwords is already up-to-date!\n",
      "[nltk_data] Downloading package punkt to /Users/Sergii/nltk_data...\n",
      "[nltk_data]   Package punkt is already up-to-date!\n",
      "[nltk_data] Downloading package wordnet to /Users/Sergii/nltk_data...\n",
      "[nltk_data]   Package wordnet is already up-to-date!\n"
     ]
    },
    {
     "data": {
      "text/plain": [
       "True"
      ]
     },
     "execution_count": 18,
     "metadata": {},
     "output_type": "execute_result"
    }
   ],
   "source": [
    "import warnings\n",
    "warnings.filterwarnings('ignore')\n",
    "\n",
    "import nltk\n",
    "nltk.download('stopwords')\n",
    "nltk.download('punkt')\n",
    "nltk.download('wordnet')"
   ]
  },
  {
   "cell_type": "code",
   "execution_count": 19,
   "metadata": {},
   "outputs": [
    {
     "name": "stderr",
     "output_type": "stream",
     "text": [
      "100%|██████████| 7613/7613 [00:02<00:00, 3224.39it/s]\n"
     ]
    }
   ],
   "source": [
    "# text cleaning and preprocessing:\n",
    "# Import packages\n",
    "import nltk\n",
    "from nltk.corpus import stopwords\n",
    "from tqdm import tqdm\n",
    "from nltk.tokenize import word_tokenize\n",
    "from nltk.stem import WordNetLemmatizer\n",
    "import re\n",
    "import string\n",
    "\n",
    "lemma = WordNetLemmatizer()\n",
    "stop_words = set(stopwords.words('english'))\n",
    "\n",
    "def clean_text(text):    \n",
    "    reviews = []\n",
    "    for t in tqdm(text):\n",
    "        \n",
    "        # Step 1: Transform text to lower case, remove url, punctuations and numbers \n",
    "        txt = t.lower()\n",
    "        txt = re.sub('(http)\\S+', '', txt)\n",
    "        txt = re.sub('[%s]' % re.escape(string.punctuation), ' ', txt)\n",
    "        txt = re.sub('\\d+', '', txt)\n",
    "        #txt = re.sub('[^\\s\\w]', '', txt)\n",
    "        \n",
    "        # Step 2: Find the tokens of each text, remove stop words and apply lemmatization\n",
    "        w_txt = word_tokenize(txt)\n",
    "        words = [ww for ww in w_txt if ww not in stop_words]        \n",
    "        lem_w = list(map(lambda x: lemma.lemmatize(x, pos='v'), words))\n",
    "        sent = ' '.join(lem_w)\n",
    "        reviews.append(sent)\n",
    "        \n",
    "    return reviews  \n",
    "\n",
    "new_data = (lambda x: clean_text(x))(train_frame.text)"
   ]
  },
  {
   "cell_type": "code",
   "execution_count": 20,
   "metadata": {},
   "outputs": [
    {
     "name": "stdout",
     "output_type": "stream",
     "text": [
      "__Original review:__\n",
      "Our Deeds are the Reason of this #earthquake May ALLAH Forgive us all\n",
      "\n",
      "__New review:__\n",
      "deeds reason earthquake may allah forgive us\n"
     ]
    }
   ],
   "source": [
    "# Compare the original text with the new clean text using one of the movie reviews \n",
    "print('__Original review:__\\n{}\\n\\n__New review:__\\n{}'.format(train_frame.text[0], new_data[0]))"
   ]
  },
  {
   "cell_type": "markdown",
   "metadata": {},
   "source": [
    "# 3. SPLIT DATA"
   ]
  },
  {
   "cell_type": "code",
   "execution_count": 21,
   "metadata": {},
   "outputs": [
    {
     "name": "stdout",
     "output_type": "stream",
     "text": [
      "Train size: 5709\n",
      "Test size: 1904\n"
     ]
    }
   ],
   "source": [
    "from sklearn.model_selection import train_test_split\n",
    "\n",
    "X_train, X_test, y_train, y_test = train_test_split(new_data, train_frame.target, random_state=203)\n",
    "\n",
    "print('Train size:', len(X_train))\n",
    "print('Test size:', len(X_test))"
   ]
  },
  {
   "cell_type": "markdown",
   "metadata": {},
   "source": [
    "# 4. TFIDF AND BUILDING MODELS"
   ]
  },
  {
   "cell_type": "code",
   "execution_count": 22,
   "metadata": {},
   "outputs": [
    {
     "name": "stdout",
     "output_type": "stream",
     "text": [
      "Best parameters: {'lr__C': 1, 'lr__penalty': 'l2', 'tvec__max_df': 0.1, 'tvec__max_features': 5000}\n"
     ]
    }
   ],
   "source": [
    "# TFIDF anf Logistic Regression\n",
    "\n",
    "from sklearn.feature_extraction.text import TfidfVectorizer\n",
    "from sklearn.linear_model import LogisticRegression\n",
    "from sklearn.pipeline import Pipeline\n",
    "from sklearn.model_selection import GridSearchCV\n",
    "\n",
    "# Pipeline & Gridsearch setup\n",
    "# TFIDF pipeline setup\n",
    "pipe1 = Pipeline([\n",
    " ('tvec', TfidfVectorizer()),\n",
    " ('lr', LogisticRegression())\n",
    "])\n",
    "\n",
    "# Fit\n",
    "pipe1.fit(X_train, y_train)\n",
    "\n",
    "# Setting params for TFIDF Vectorizer and LR gridsearch\n",
    "parameters1 = {'tvec__max_features': [2000,5000,8000,10000,15000,20000], \n",
    "              'tvec__max_df': [0.1,0.3,0.5,0.7,1],\n",
    "              'lr__penalty': ['l1', 'l2'],\n",
    "              'lr__C': [0.01, 0.1, 1, 10, 100]}\n",
    "\n",
    "# Setting up GridSearch\n",
    "tvec_lr = GridSearchCV(pipe1, param_grid=parameters1, cv = 5)\n",
    "# Fitting GS\n",
    "tvec_lr.fit(X_train, y_train)\n",
    "\n",
    "# Best parameters\n",
    "print('Best parameters:', tvec_lr.best_params_)\n",
    "\n",
    "#Test score\n",
    "acc = []\n",
    "acc.append(tvec_lr.score(X_test, y_test))"
   ]
  },
  {
   "cell_type": "code",
   "execution_count": 23,
   "metadata": {},
   "outputs": [
    {
     "name": "stdout",
     "output_type": "stream",
     "text": [
      "Best parameters: {'svm__C': 1, 'svm__gamma': 'scale', 'tvec__max_df': 0.1, 'tvec__max_features': 5000}\n"
     ]
    }
   ],
   "source": [
    "# TFIDF and Support Vector Machine\n",
    "from sklearn.svm import SVC\n",
    "\n",
    "# Pipeline & Gridsearch setup\n",
    "# TFIDF pipeline setup\n",
    "pipe2 = Pipeline([\n",
    " ('tvec', TfidfVectorizer()),\n",
    " ('svm', SVC())\n",
    "])\n",
    "\n",
    "# Fit\n",
    "pipe2.fit(X_train, y_train)\n",
    "\n",
    "# Setting params for TFIDF Vectorizer and SVM gridsearch\n",
    "parameters2 = {'tvec__max_features': [5000, 10000], \n",
    "              'tvec__max_df': [0.1],\n",
    "              'svm__C': [0.01, 0.1, 1, 10, 100],\n",
    "              'svm__gamma': ['auto', 'scale']}\n",
    "\n",
    "# Setting up GridSearch\n",
    "tvec_svm = GridSearchCV(pipe2, param_grid=parameters2, cv = 5)\n",
    "# Fitting GS\n",
    "tvec_svm.fit(X_train, y_train)\n",
    "\n",
    "# Best parameters\n",
    "print('Best parameters:', tvec_svm.best_params_)\n",
    "\n",
    "# Test score\n",
    "acc.append(tvec_svm.score(X_test, y_test))"
   ]
  },
  {
   "cell_type": "code",
   "execution_count": 24,
   "metadata": {},
   "outputs": [
    {
     "name": "stdout",
     "output_type": "stream",
     "text": [
      "Best parameters: {'knn__n_neighbors': 5, 'tvec__max_df': 0.1, 'tvec__max_features': 10000}\n"
     ]
    }
   ],
   "source": [
    "from sklearn.neighbors import KNeighborsClassifier\n",
    "\n",
    "\n",
    "# Pipeline & Gridsearch setup\n",
    "# TFIDF pipeline setup\n",
    "pipe3 = Pipeline([\n",
    " ('tvec', TfidfVectorizer()),\n",
    " ('knn', KNeighborsClassifier())\n",
    "])\n",
    "\n",
    "# Fit\n",
    "pipe3.fit(X_train, y_train)\n",
    "\n",
    "# Setting params for TFIDF Vectorizer and KNN gridsearch\n",
    "parameters3 = {'tvec__max_features': [2000,5000,8000,10000,15000,20000], \n",
    "              'tvec__max_df': [0.1],\n",
    "              'knn__n_neighbors': [1,3,5]}\n",
    "\n",
    "# Setting up GridSearch\n",
    "tvec_knn = GridSearchCV(pipe3, param_grid=parameters3, cv = 5)\n",
    "# Fitting GS\n",
    "tvec_knn.fit(X_train, y_train)\n",
    "\n",
    "\n",
    "# Best parameters\n",
    "print('Best parameters:', tvec_knn.best_params_)\n",
    "\n",
    "# Test score\n",
    "acc.append(tvec_knn.score(X_test, y_test))"
   ]
  },
  {
   "cell_type": "code",
   "execution_count": 25,
   "metadata": {},
   "outputs": [
    {
     "name": "stdout",
     "output_type": "stream",
     "text": [
      "Best parameters: {'tvec__max_df': 0.1, 'tvec__max_features': 10000}\n"
     ]
    }
   ],
   "source": [
    "from sklearn.ensemble import RandomForestClassifier\n",
    "\n",
    "# Pipeline & Gridsearch setup\n",
    "# TFIDF pipeline setup\n",
    "pipe4 = Pipeline([\n",
    " ('tvec', TfidfVectorizer()),\n",
    " ('rf', RandomForestClassifier())\n",
    "])\n",
    "\n",
    "# Fit\n",
    "pipe4.fit(X_train, y_train)\n",
    "\n",
    "# Setting params for TFIDF Vectorizer and RF gridsearch\n",
    "parameters4 = {'tvec__max_features': [2000,5000,8000,10000,15000,20000], \n",
    "              'tvec__max_df': [0.1]}\n",
    "\n",
    "# Setting up GridSearch\n",
    "tvec_rf = GridSearchCV(pipe4, param_grid=parameters4, cv = 5)\n",
    "# Fitting GS\n",
    "tvec_rf.fit(X_train, y_train)\n",
    "\n",
    "# Best parameters\n",
    "print('Best parameters:', tvec_rf.best_params_)\n",
    "\n",
    "# Test score\n",
    "acc.append(tvec_rf.score(X_test, y_test))"
   ]
  },
  {
   "cell_type": "code",
   "execution_count": 32,
   "metadata": {},
   "outputs": [
    {
     "data": {
      "image/png": "[encoded data removed]",
      "text/plain": [
       "<Figure size 432x288 with 1 Axes>"
      ]
     },
     "metadata": {
      "needs_background": "light"
     },
     "output_type": "display_data"
    }
   ],
   "source": [
    "# Plot the test scores from all the ML models\n",
    "models = ['LR', 'SVM', 'KNN', 'RF']\n",
    "acc_plt = plt.bar(models, acc, color='red', alpha=0.5)\n",
    "plt.title('Models Performance on Test Set')\n",
    "plt.ylabel('Accuracy')\n",
    "plt.ylim([0.75,0.81])\n",
    "plt.show()"
   ]
  },
  {
   "cell_type": "markdown",
   "metadata": {},
   "source": [
    "# 5. ERROR ANALYSIS AND RESULTS"
   ]
  },
  {
   "cell_type": "code",
   "execution_count": 28,
   "metadata": {},
   "outputs": [
    {
     "name": "stdout",
     "output_type": "stream",
     "text": [
      "              precision    recall  f1-score   support\n",
      "\n",
      "           0       0.79      0.89      0.84      1081\n",
      "           1       0.83      0.70      0.76       823\n",
      "\n",
      "    accuracy                           0.81      1904\n",
      "   macro avg       0.81      0.79      0.80      1904\n",
      "weighted avg       0.81      0.81      0.80      1904\n",
      "\n",
      "Confusion Matrix:\n"
     ]
    },
    {
     "data": {
      "text/plain": [
       "array([[961, 120],\n",
       "       [251, 572]])"
      ]
     },
     "execution_count": 28,
     "metadata": {},
     "output_type": "execute_result"
    }
   ],
   "source": [
    "# Confusion Matrix\n",
    "from sklearn import metrics\n",
    "\n",
    "print(metrics.classification_report(y_test, tvec_lr.predict(X_test),labels=[0,1]))\n",
    "print('Confusion Matrix:')\n",
    "metrics.confusion_matrix(y_test, tvec_lr.predict(X_test))"
   ]
  },
  {
   "cell_type": "code",
   "execution_count": 29,
   "metadata": {},
   "outputs": [
    {
     "data": {
      "text/html": [
       "<div>\n",
       "<style scoped>\n",
       "    .dataframe tbody tr th:only-of-type {\n",
       "        vertical-align: middle;\n",
       "    }\n",
       "\n",
       "    .dataframe tbody tr th {\n",
       "        vertical-align: top;\n",
       "    }\n",
       "\n",
       "    .dataframe thead th {\n",
       "        text-align: right;\n",
       "    }\n",
       "</style>\n",
       "<table border=\"1\" class=\"dataframe\">\n",
       "  <thead>\n",
       "    <tr style=\"text-align: right;\">\n",
       "      <th></th>\n",
       "      <th>fire</th>\n",
       "      <th>hiroshima</th>\n",
       "      <th>kill</th>\n",
       "      <th>flood</th>\n",
       "      <th>train</th>\n",
       "      <th>california</th>\n",
       "      <th>wildfire</th>\n",
       "      <th>suicide</th>\n",
       "      <th>earthquake</th>\n",
       "      <th>typhoon</th>\n",
       "    </tr>\n",
       "  </thead>\n",
       "  <tbody>\n",
       "    <tr>\n",
       "      <th>importance_1</th>\n",
       "      <td>3.701469</td>\n",
       "      <td>3.352459</td>\n",
       "      <td>3.064797</td>\n",
       "      <td>2.844307</td>\n",
       "      <td>2.83692</td>\n",
       "      <td>2.599133</td>\n",
       "      <td>2.285611</td>\n",
       "      <td>2.232315</td>\n",
       "      <td>2.200437</td>\n",
       "      <td>2.155244</td>\n",
       "    </tr>\n",
       "  </tbody>\n",
       "</table>\n",
       "</div>"
      ],
      "text/plain": [
       "                  fire  hiroshima      kill     flood    train  california  \\\n",
       "importance_1  3.701469   3.352459  3.064797  2.844307  2.83692    2.599133   \n",
       "\n",
       "              wildfire   suicide  earthquake   typhoon  \n",
       "importance_1  2.285611  2.232315    2.200437  2.155244  "
      ]
     },
     "execution_count": 29,
     "metadata": {},
     "output_type": "execute_result"
    }
   ],
   "source": [
    "# Most important words for disaster tweets (1)\n",
    "tvc_title1 = pd.DataFrame(pipe1.steps[1][1].coef_.T, pipe1.steps[0][1].get_feature_names(), columns=['importance_1'])\n",
    "tvc_title1.sort_values('importance_1', ascending = False).head(10).T"
   ]
  },
  {
   "cell_type": "code",
   "execution_count": 30,
   "metadata": {},
   "outputs": [
    {
     "data": {
      "text/html": [
       "<div>\n",
       "<style scoped>\n",
       "    .dataframe tbody tr th:only-of-type {\n",
       "        vertical-align: middle;\n",
       "    }\n",
       "\n",
       "    .dataframe tbody tr th {\n",
       "        vertical-align: top;\n",
       "    }\n",
       "\n",
       "    .dataframe thead th {\n",
       "        text-align: right;\n",
       "    }\n",
       "</style>\n",
       "<table border=\"1\" class=\"dataframe\">\n",
       "  <thead>\n",
       "    <tr style=\"text-align: right;\">\n",
       "      <th></th>\n",
       "      <th>bag</th>\n",
       "      <th>scream</th>\n",
       "      <th>love</th>\n",
       "      <th>full</th>\n",
       "      <th>ruin</th>\n",
       "      <th>panic</th>\n",
       "      <th>new</th>\n",
       "      <th>put</th>\n",
       "      <th>blaze</th>\n",
       "      <th>crush</th>\n",
       "    </tr>\n",
       "  </thead>\n",
       "  <tbody>\n",
       "    <tr>\n",
       "      <th>importance_0</th>\n",
       "      <td>-2.057649</td>\n",
       "      <td>-1.986881</td>\n",
       "      <td>-1.96225</td>\n",
       "      <td>-1.800255</td>\n",
       "      <td>-1.632379</td>\n",
       "      <td>-1.583744</td>\n",
       "      <td>-1.534846</td>\n",
       "      <td>-1.484257</td>\n",
       "      <td>-1.45748</td>\n",
       "      <td>-1.445547</td>\n",
       "    </tr>\n",
       "  </tbody>\n",
       "</table>\n",
       "</div>"
      ],
      "text/plain": [
       "                   bag    scream     love      full      ruin     panic  \\\n",
       "importance_0 -2.057649 -1.986881 -1.96225 -1.800255 -1.632379 -1.583744   \n",
       "\n",
       "                   new       put    blaze     crush  \n",
       "importance_0 -1.534846 -1.484257 -1.45748 -1.445547  "
      ]
     },
     "execution_count": 30,
     "metadata": {},
     "output_type": "execute_result"
    }
   ],
   "source": [
    "# Most important words for non-disaster tweets (0)\n",
    "tvc_title0 = pd.DataFrame(pipe1.steps[1][1].coef_.T, pipe1.steps[0][1].get_feature_names(), columns=['importance_0'])\n",
    "tvc_title0.sort_values('importance_0', ascending = True).head(10).T"
   ]
  },
  {
   "cell_type": "code",
   "execution_count": 39,
   "metadata": {},
   "outputs": [
    {
     "data": {
      "text/html": [
       "<div>\n",
       "<style scoped>\n",
       "    .dataframe tbody tr th:only-of-type {\n",
       "        vertical-align: middle;\n",
       "    }\n",
       "\n",
       "    .dataframe tbody tr th {\n",
       "        vertical-align: top;\n",
       "    }\n",
       "\n",
       "    .dataframe thead th {\n",
       "        text-align: right;\n",
       "    }\n",
       "</style>\n",
       "<table border=\"1\" class=\"dataframe\">\n",
       "  <thead>\n",
       "    <tr style=\"text-align: right;\">\n",
       "      <th></th>\n",
       "      <th>text</th>\n",
       "      <th>target</th>\n",
       "      <th>pred</th>\n",
       "    </tr>\n",
       "  </thead>\n",
       "  <tbody>\n",
       "    <tr>\n",
       "      <th>0</th>\n",
       "      <td>themagickidraps upset rally upset burn build b...</td>\n",
       "      <td>1</td>\n",
       "      <td>0</td>\n",
       "    </tr>\n",
       "    <tr>\n",
       "      <th>1</th>\n",
       "      <td>name hurricanes black people name terrify hurr...</td>\n",
       "      <td>0</td>\n",
       "      <td>0</td>\n",
       "    </tr>\n",
       "    <tr>\n",
       "      <th>2</th>\n",
       "      <td>bowl get think damn blaze damn long</td>\n",
       "      <td>0</td>\n",
       "      <td>0</td>\n",
       "    </tr>\n",
       "    <tr>\n",
       "      <th>3</th>\n",
       "      <td>cap drive act represent failure senate republi...</td>\n",
       "      <td>0</td>\n",
       "      <td>0</td>\n",
       "    </tr>\n",
       "    <tr>\n",
       "      <th>4</th>\n",
       "      <td>california oil spill might larger project</td>\n",
       "      <td>1</td>\n",
       "      <td>1</td>\n",
       "    </tr>\n",
       "  </tbody>\n",
       "</table>\n",
       "</div>"
      ],
      "text/plain": [
       "                                                text  target  pred\n",
       "0  themagickidraps upset rally upset burn build b...       1     0\n",
       "1  name hurricanes black people name terrify hurr...       0     0\n",
       "2                bowl get think damn blaze damn long       0     0\n",
       "3  cap drive act represent failure senate republi...       0     0\n",
       "4          california oil spill might larger project       1     1"
      ]
     },
     "execution_count": 39,
     "metadata": {},
     "output_type": "execute_result"
    }
   ],
   "source": [
    "# Final test table with real labels and predictions\n",
    "pred_frame = pd.DataFrame(zip(X_test,y_test, tvec_lr.predict(X_test)), columns=['text', 'target', 'pred'])\n",
    "pred_frame.head()"
   ]
  }
 ],
 "metadata": {
  "kernelspec": {
   "display_name": "Python 3",
   "language": "python",
   "name": "python3"
  },
  "language_info": {
   "codemirror_mode": {
    "name": "ipython",
    "version": 3
   },
   "file_extension": ".py",
   "mimetype": "text/x-python",
   "name": "python",
   "nbconvert_exporter": "python",
   "pygments_lexer": "ipython3",
   "version": "3.7.3"
  }
 },
 "nbformat": 4,
 "nbformat_minor": 2
}
